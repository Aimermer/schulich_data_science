{
 "cells": [
  {
   "cell_type": "markdown",
   "metadata": {},
   "source": [
    "# Class 2"
   ]
  },
  {
   "cell_type": "code",
   "execution_count": null,
   "metadata": {},
   "outputs": [],
   "source": [
    "import pandas as pd\n",
    "import numpy as np\n",
    "import seaborn as sns\n",
    "import matplotlib.pyplot as plt\n",
    "import scipy.stats as stats\n",
    "\n",
    "df = pd.read_csv('https://raw.githubusercontent.com/delinai/schulich_ds1/main/Datasets/kc_house_data.csv')\n",
    "df.head()"
   ]
  },
  {
   "cell_type": "code",
   "execution_count": null,
   "metadata": {},
   "outputs": [],
   "source": [
    "# displaying the first/last 11 columns\n",
    "df.iloc[0:10,:11].head()\n",
    "df.iloc[:,11:].head()"
   ]
  },
  {
   "cell_type": "code",
   "execution_count": null,
   "metadata": {},
   "outputs": [],
   "source": [
    "# univariate analysis\n",
    "df.describe()\n",
    "\n",
    "# understand the output itself\n",
    "sns.histplot(df['price'])\n",
    "plt.hist(df['price'])\n",
    "\n",
    "# cleaning a specific data point or value\n",
    "df['bedrooms'] = df['bedrooms'].replace(33, 3) # replacing 33 with 3"
   ]
  },
  {
   "cell_type": "code",
   "execution_count": null,
   "metadata": {},
   "outputs": [],
   "source": [
    "# finding the specific row\n",
    "df.loc[15870]\n",
    "# setting specific condition\n",
    "sns.boxplot(df['bathrooms'])\n",
    "df[df['bathrooms'] > 3.5].describe()\n",
    "sns.boxplot(df[df['bathrooms'] > 3.5]['bathrooms'])\n",
    "sns.boxplot(df[df['bathrooms'] > 3.5]['price'])\n",
    "# winsorize outliers\n",
    "values_to_replace_max = df[df['bathrooms'] > 3.5].index\n",
    "df.loc[values_to_replace_max,'bathrooms'] = 3.5\n",
    "df[df['bathrooms'] > 3.5]"
   ]
  },
  {
   "cell_type": "code",
   "execution_count": null,
   "metadata": {},
   "outputs": [],
   "source": [
    "# boxplot with categories, x = category\n",
    "sns.boxplot(x=df['view'], y=df['price'])"
   ]
  },
  {
   "cell_type": "code",
   "execution_count": null,
   "metadata": {},
   "outputs": [],
   "source": [
    "pip install scipy\n",
    "from scipy import stats\n",
    "sns.boxplot(df['sqft_living'])\n",
    "# another way to winsorize\n",
    "df['sqft_living_winsorized'] = stats.mstats.winsorize(df['sqft_living'], limits=[0,0.01])\n",
    "df[['sqft_living','sqft_living_winsorized']].sort_values('sqft_living', ascending=False)"
   ]
  },
  {
   "cell_type": "code",
   "execution_count": null,
   "metadata": {},
   "outputs": [],
   "source": [
    "# heatmap\n",
    "plt.figure(figsize = (20,20))\n",
    "sns.heatmap(df.iloc[:,2:].corr(), annot=True)\n",
    "\n",
    "# pairplot\n",
    "sns.pairplot(df.iloc[:,2:])"
   ]
  },
  {
   "cell_type": "markdown",
   "metadata": {},
   "source": [
    "# Class 3"
   ]
  },
  {
   "cell_type": "code",
   "execution_count": null,
   "metadata": {},
   "outputs": [],
   "source": [
    "df = pd.read_csv('https://raw.githubusercontent.com/delinai/schulich_ds1/main/Datasets/kc_house_data.csv')\n",
    "df.head()\n",
    "# info() gives you structural information about the dataset\n",
    "df.info()"
   ]
  },
  {
   "cell_type": "code",
   "execution_count": null,
   "metadata": {},
   "outputs": [],
   "source": [
    "df['date'] = pd.to_datetime(df['date'])\n",
    "# how volume changes over time (sort_index to sort with time)\n",
    "df.groupby('date')['price'].count().sort_index().plot()\n",
    "df.groupby('date')['price'].sum().sort_index().plot()\n",
    "# looking at average overtime\n",
    "df['price_per_sqft'] = df['price'] / df['sqft_living']\n",
    "df.groupby('date')['price_per_sqft'].mean().sort_index().plot()\n",
    "\n",
    "#identify the higher average price sold\n",
    "df.groupby('date')['price_per_sqft'].mean().sort_values()"
   ]
  },
  {
   "cell_type": "code",
   "execution_count": null,
   "metadata": {},
   "outputs": [],
   "source": [
    "#find the size of the particular high price house \n",
    "df.set_index('date').loc['2014-08-30']\n",
    "# look at the usual price sold for the same size, identidy why the high price\n",
    "df[(df['sqft_living'] >= 1000) & (df['sqft_living']<=1100)]['price'].mean()"
   ]
  },
  {
   "cell_type": "code",
   "execution_count": null,
   "metadata": {},
   "outputs": [],
   "source": [
    "df[(df['sqft_living'] >= 1000) & (df['sqft_living']<=1100)]['price'].mean()\n",
    "# look at the usual price sold for the same size, identidy why the high price\n",
    "avg_price_zipcode = df.groupby(['zipcode'])['price_per_sqft'].mean().to_dict()\n",
    "# average by zipcode\n",
    "df['zip_price_per_sqft'] = df['zipcode'].map(avg_price_zipcode)\n",
    "# creates a new column mapped with zipcode, showing the avergae price corresponded to the zipcode\n",
    "df['compared_to_avg'] = df['price_per_sqft'] - df['zip_price_per_sqft']\n",
    "sns.boxplot(df['compared_to_avg'])\n",
    "#above/below the quantile are overpaid/underpaid "
   ]
  },
  {
   "cell_type": "code",
   "execution_count": null,
   "metadata": {},
   "outputs": [],
   "source": [
    "def value(x):\n",
    "    if x > 0:\n",
    "        return 'bad investment'\n",
    "    elif x == 0:\n",
    "        return 'fair investment'\n",
    "    else:\n",
    "        return 'good investment'\n",
    "df['investment_type'] = df['compared_to_avg'].apply(value)\n",
    "# apply single column tranformation using the function just created"
   ]
  },
  {
   "cell_type": "code",
   "execution_count": null,
   "metadata": {},
   "outputs": [],
   "source": [
    "def value_v2(row):\n",
    "    if row['compared_to_avg'] > 0 and row['grade'] > 10:\n",
    "        return 'fair investment for a luxury property'\n",
    "    elif row['compared_to_avg'] > 0 and row['grade'] < 10:\n",
    "        return 'overpaid'\n",
    "    elif row['compared_to_avg'] < 0 and row['grade'] > 10:\n",
    "        return 'really good deal'\n",
    "    else:\n",
    "        return 'average deal'\n",
    "df['deal_evaluation'] = df.apply(value_v2, axis = 1) \n",
    "# applied to the whole dataframe because using two or more columns in the function"
   ]
  },
  {
   "cell_type": "code",
   "execution_count": null,
   "metadata": {},
   "outputs": [],
   "source": [
    "#Using the new features we created, what insights can you find in the data? For example, what type of homes tend to be over/underpriced?\n",
    "#How could you adjust the price_per_sqft calculation to take into account recency of sale? Try building a function -- then repeat your analysis. Any changes?\n",
    "\n",
    "# waterfront vs deal evaluation\n",
    "# Group by ColumnX and count occurrences in ColumnY\n",
    "count_df = df.groupby(['waterfront','deal_evaluation']).size().reset_index(name='Count' )\n",
    "\n",
    "# Calculate the total counts for each ColumnX category\n",
    "total_counts = df['waterfront'].value_counts().reset_index()\n",
    "total_counts.columns = ['waterfront', 'TotalCount']\n",
    "\n",
    "# Merge the total counts with the grouped counts\n",
    "count_df = count_df.merge(total_counts, on='waterfront')\n",
    "\n",
    "# Calculate the percentage\n",
    "count_df['Percentage'] = (count_df['Count'] / count_df['TotalCount']) * 100\n",
    "count_df"
   ]
  },
  {
   "cell_type": "code",
   "execution_count": null,
   "metadata": {},
   "outputs": [],
   "source": [
    "# insight: house with 1 bedroom is most overpriced; house with 10 bed is most underpriced\n",
    "df.groupby('bedrooms')['compared_to_avg'].mean().sort_index()"
   ]
  },
  {
   "cell_type": "code",
   "execution_count": null,
   "metadata": {},
   "outputs": [],
   "source": [
    "df['price_per_floor'] = df['price'] / df['floors']\n",
    "df.groupby('floors')['price_per_floor'].mean()\n",
    "df.groupby('date')['price_per_floor'].mean().sort_index().plot()\n",
    "\n",
    "sns.boxplot(x='floors', y='price', data=df) # with respect to floor number"
   ]
  },
  {
   "cell_type": "code",
   "execution_count": null,
   "metadata": {},
   "outputs": [],
   "source": [
    "# getting avg bedroom price\n",
    "avg_bedroom_price = df.groupby('bedrooms')['price_per_sqft'].mean().to_dict()\n",
    "df['avg_bedroom_price'] = df['bedrooms'].map(avg_bedroom_price)\n",
    "def bedroom_price(row):\n",
    "    if row['price_per_sqft'] > row['avg_bedroom_price']: \n",
    "        return 'Overpaid Investment'\n",
    "    elif row['price_per_sqft'] < row['avg_bedroom_price']: \n",
    "        return 'Underpaid Investment'\n",
    "    else:\n",
    "        return 'Average Investment'\n",
    "df['Money_investment'] = df.apply(bedroom_price, axis =1)\n",
    "df\n",
    "\n",
    "df.groupby('Money_investment').count()\n",
    "\n",
    "df.groupby(['Money_investment','zipcode'])['price'].mean().to_frame().reset_index()\\\n",
    "    .sort_values(by=['zipcode','Money_investment','price'], ascending=[True,True,False])"
   ]
  },
  {
   "cell_type": "code",
   "execution_count": null,
   "metadata": {},
   "outputs": [],
   "source": [
    "def rolling_avg(group):\n",
    "    group = group.sort_values('date')\n",
    "    rolling_avg = group.set_index('date')['price_per_sqft'].rolling('90D').mean().shift()\n",
    "    group['rolling_avg'] = rolling_avg.values\n",
    "    return group\n",
    "\n",
    "df = df.groupby('zipcode').apply(rolling_avg).reset_index(drop=True)\n",
    "\n",
    "df[df['zipcode']==98001].sort_values('date')\n",
    "\n",
    "df['above/below'] = df['price_per_sqft'] - df['rolling_avg']\n",
    "sns.boxplot(df['above/below'])"
   ]
  },
  {
   "cell_type": "markdown",
   "metadata": {},
   "source": [
    "# Class 4"
   ]
  },
  {
   "cell_type": "code",
   "execution_count": null,
   "metadata": {},
   "outputs": [],
   "source": [
    "data = np.random.normal(loc=50, scale=10, size=1000)\n",
    "plt.hist(data, bins=50, alpha=0.7, color='blue')\n",
    "\n",
    "stats.probplot(data, dist='norm', plot=plt)\n",
    "\n",
    "# printing skewness\n",
    "print(stats.skew(data))\n",
    "print(stats.kurtosis(data, fisher=True))"
   ]
  },
  {
   "cell_type": "code",
   "execution_count": null,
   "metadata": {},
   "outputs": [],
   "source": [
    "# poisson distribution\n",
    "from scipy.stats import poisson\n",
    "data = poisson.rvs(mu=10, size=1000)\n",
    "\n",
    "plt.hist(data, bins=30, alpha=0.7, color='green')\n",
    "\n",
    "# exponential distribution\n",
    "data = np.random.exponential(scale=30, size=1000)\n",
    "\n",
    "plt.hist(data, bins=50, color='red')\n",
    "\n",
    "# beta distribution - proportions, naturally bounded distribution 0-1\n",
    "\n",
    "from scipy.stats import beta\n",
    "\n",
    "data = beta.rvs(a=2, b=5, size=1000)\n",
    "\n",
    "plt.hist(data, bins=30)"
   ]
  },
  {
   "cell_type": "markdown",
   "metadata": {},
   "source": [
    "# Class 7"
   ]
  },
  {
   "cell_type": "code",
   "execution_count": null,
   "metadata": {},
   "outputs": [],
   "source": [
    "pip install statsmodels\n",
    "pip install scikit-learn\n",
    "import pandas as pd\n",
    "import numpy as np\n",
    "from statsmodels.formula.api import ols\n",
    "from sklearn.linear_model import LinearRegression\n",
    "from sklearn.metrics import r2_score, mean_squared_error\n",
    "from sklearn.model_selection import train_test_split\n",
    "\n",
    "bikes = pd.read_csv('https://raw.githubusercontent.com/delinai/schulich_ds1/main/Datasets/bikes_sharing.csv')\n",
    "bikes.head()"
   ]
  },
  {
   "cell_type": "code",
   "execution_count": null,
   "metadata": {},
   "outputs": [],
   "source": [
    "# feature engineering\n",
    "# create daily version of data set\n",
    "# convert the datetime column into a datetime data type\n",
    "bikes.info()\n",
    "bikes['datetime'] = pd.to_datetime(bikes['datetime'])"
   ]
  },
  {
   "cell_type": "code",
   "execution_count": null,
   "metadata": {},
   "outputs": [],
   "source": [
    "# set the datetime as an index\n",
    "bikes_daily = bikes.set_index('datetime')\n",
    "bikes_daily = bikes_daily.resample('D').aggregate({'season':'max', 'holiday':'max','workingday':'max', 'weather':'max',\\\n",
    "                                                   'temp':'mean', 'atemp':'mean', 'humidity':'mean', 'windspeed':'mean',\\\n",
    "                                                    'casual':'sum', 'registered':'sum', 'count':'sum'})\n",
    "bikes_daily\n",
    "\n",
    "# isolate the hour of the day to assess time of day\n",
    "bikes['hour'] = bikes['datetime'].apply(lambda x: x.hour)"
   ]
  },
  {
   "cell_type": "code",
   "execution_count": null,
   "metadata": {},
   "outputs": [],
   "source": [
    "\n",
    "def time_of_day(x):\n",
    "    if x >= 6 and x <= 9:\n",
    "        return 'morning_commute'\n",
    "    elif x > 9 and x <= 15:\n",
    "        return 'midday'\n",
    "    elif x > 15 and x <= 19:\n",
    "        return 'evening_commute'\n",
    "    else:\n",
    "        return 'afterhours' \n",
    "    \n",
    "bikes['time_of_day'] = bikes['hour'].apply(time_of_day)\n",
    "\n",
    "# return the weekday > day 0 = Monday\n",
    "bikes['weekday'] = bikes['datetime'].apply(lambda x: x.weekday())"
   ]
  },
  {
   "cell_type": "code",
   "execution_count": null,
   "metadata": {},
   "outputs": [],
   "source": [
    "# evaluate weekday vs number of casual or registered or total rentals\n",
    "fig, (ax1, ax2, ax3) = plt.subplots(1,3, figsize = (10,5), sharey=True)\n",
    "sns.boxplot(x='weekday', y='casual', data=bikes, ax=ax1, palette='tab10')\n",
    "sns.boxplot(x='weekday', y='registered', data=bikes, ax=ax2, palette='tab10')\n",
    "sns.boxplot(x='weekday', y='count', data=bikes, ax=ax3, palette='tab10')\n",
    "\n",
    "# evaluate time_of_day vs number of casual or registered or total rentals\n",
    "fig, (ax1, ax2, ax3) = plt.subplots(1,3, figsize = (10,5), sharey=True)\n",
    "sns.boxplot(x='time_of_day', y='casual', data=bikes, ax=ax1, palette='tab10')\n",
    "sns.boxplot(x='time_of_day', y='registered', data=bikes, ax=ax2, palette='tab10')\n",
    "sns.boxplot(x='time_of_day', y='count', data=bikes, ax=ax3, palette='tab10')\n",
    "\n",
    "ax2.set_ylabel('registered')\n",
    "ax3.set_ylabel('count')"
   ]
  },
  {
   "cell_type": "code",
   "execution_count": null,
   "metadata": {},
   "outputs": [],
   "source": [
    "bikes[bikes['time_of_day']=='evening_commute']['casual'].describe()\n",
    "# evaluate weekday & time_of_day vs number of casual or registered or total rentals\n",
    "fig, (ax1, ax2, ax3) = plt.subplots(1,3, figsize = (25,10), sharey=True)\n",
    "sns.boxplot(x='weekday', y='casual', hue='time_of_day',data=bikes, ax=ax1, palette='tab10')\n",
    "sns.boxplot(x='weekday', y='registered', hue='time_of_day',data=bikes, ax=ax2, palette='tab10')\n",
    "sns.boxplot(x='weekday', y='count', hue='time_of_day',data=bikes, ax=ax3, palette='tab10')"
   ]
  },
  {
   "cell_type": "code",
   "execution_count": null,
   "metadata": {},
   "outputs": [],
   "source": [
    "# lets look at Temperature vs. Rental Counts, add Weekday as a categorical element\n",
    "# evaluate weekday & time_of_day vs number of casual or registered or total rentals\n",
    "fig, (ax1, ax2, ax3) = plt.subplots(1,3, figsize = (25,10), sharey=False)\n",
    "sns.scatterplot(x='temp', y='casual', hue='weekday',data=bikes, ax=ax1, palette='tab10')\n",
    "sns.scatterplot(x='temp', y='registered', hue='weekday', data=bikes, ax=ax2, palette='tab10')\n",
    "sns.scatterplot(x='temp', y='count', hue='weekday', data=bikes, ax=ax3, palette='tab10')"
   ]
  },
  {
   "cell_type": "code",
   "execution_count": null,
   "metadata": {},
   "outputs": [],
   "source": [
    "# temp, weekday, time_of_day\n",
    "# for categoricals, they need to be converted into dummy variables\n",
    "# get_dummies()\n",
    "\n",
    "model_data = pd.get_dummies(data = bikes[['casual','temp','weekday','time_of_day']], columns=['weekday','time_of_day'], dtype=int)"
   ]
  },
  {
   "cell_type": "code",
   "execution_count": null,
   "metadata": {},
   "outputs": [],
   "source": [
    "model = ols(\"casual ~ temp +  weekday_1 + weekday_2 + weekday_3 + \\\n",
    "       weekday_4 + weekday_5 + weekday_6  + \\\n",
    "            time_of_day_evening_commute + time_of_day_midday + time_of_day_morning_commute\", data=model_data).fit()\n",
    "print(model.summary())"
   ]
  },
  {
   "cell_type": "code",
   "execution_count": null,
   "metadata": {},
   "outputs": [],
   "source": [
    "predictions = model.predict(model_data.iloc[:,1:])\n",
    "model.params\n",
    "\n",
    "final_data = pd.concat([model_data, predictions], axis=1)\n",
    "final_data.rename(columns={0:'predictions'}, inplace=True)\n",
    "final_data['residuals'] = final_data['predictions'] - final_data['casual']\n",
    "# predicted vs residuals\n",
    "# checking for normality\n",
    "\n",
    "sns.scatterplot(x='predictions', y='residuals', data=final_data)\n",
    "# check for normal distribution of residuals\n",
    "sns.histplot(final_data['residuals'])"
   ]
  },
  {
   "cell_type": "code",
   "execution_count": null,
   "metadata": {},
   "outputs": [],
   "source": [
    "import statsmodels.api as sm\n",
    "sm.graphics.influence_plot(model, criterion = 'cooks')"
   ]
  },
  {
   "cell_type": "markdown",
   "metadata": {},
   "source": [
    "# Class 8"
   ]
  },
  {
   "cell_type": "code",
   "execution_count": null,
   "metadata": {},
   "outputs": [],
   "source": [
    "import numpy as np\n",
    "import pandas as pd\n",
    "import seaborn as sns\n",
    "import matplotlib.pyplot as plt\n",
    "from sklearn.model_selection import train_test_split, cross_val_score\n",
    "from sklearn.metrics import f1_score, PrecisionRecallDisplay, precision_score, recall_score, roc_auc_score, RocCurveDisplay, roc_curve, confusion_matrix\n",
    "from sklearn.linear_model import LogisticRegression\n",
    "\n",
    "\n",
    "df=pd.read_csv('https://raw.githubusercontent.com/delinai/schulich_ds1_2024/main/Datasets/diabetes_data.csv')\n",
    "df.head()\n",
    "\n",
    "# pairplot\n",
    "sns.pairplot(df, hue='Outcome')\n",
    "# heatmap\n",
    "sns.heatmap(df.iloc[:,:8].corr(), annot=True, vmin=-1, vmax=1)"
   ]
  },
  {
   "cell_type": "code",
   "execution_count": null,
   "metadata": {},
   "outputs": [],
   "source": [
    "# checking for imbalance\n",
    "model_data['Outcome'].value_counts()\n",
    "model_data.groupby('Outcome')['Pregnancies'].count()/len(model_data)\n",
    "\n",
    "# spliting training/testing data\n",
    "train, test = train_test_split(model_data, test_size=0.3, random_state=1234)"
   ]
  },
  {
   "cell_type": "code",
   "execution_count": null,
   "metadata": {},
   "outputs": [],
   "source": [
    "features = ['Pregnancies', 'Glucose', 'BloodPressure', 'Insulin', 'BMI',\n",
    "       'DiabetesPedigreeFunction', 'Age']\n",
    "target = 'Outcome'\n",
    "# cross validation \n",
    "scores = cross_val_score(LogisticRegression(), train[features], train[target], cv=5, scoring='accuracy')\n",
    "\n",
    "# calculate average score\n",
    "np.mean(scores)\n",
    "0.762895622895623\n",
    "logreg = LogisticRegression().fit(train[features], train[target])\n",
    "logreg.coef_\n",
    "\n",
    "y_pred = logreg.predict(test[features])\n",
    "y_pred\n",
    "\n",
    "pd.Series(test[target])\n",
    "# checking target\n",
    "np.array(test[target]).ravel()"
   ]
  },
  {
   "cell_type": "code",
   "execution_count": null,
   "metadata": {},
   "outputs": [],
   "source": [
    "final_scores = pd.DataFrame([test[target].to_list(), y_pred]).T.rename(columns={0:'Actual',1:'Predicted'})\n",
    "final_scores['difference'] = final_scores['Actual'] - final_scores['Predicted']\n",
    "final_scores[final_scores['difference']!=0].count() / len(final_scores)"
   ]
  },
  {
   "cell_type": "code",
   "execution_count": null,
   "metadata": {},
   "outputs": [],
   "source": [
    "from sklearn.metrics import accuracy_score\n",
    "accuracy_score(test[target], y_pred)\n",
    "\n",
    "# # 2nd / 1st are FALSE NEGATIVES > the model predicted they do NOT have diabetes, even though they do\n",
    "final_scores[final_scores['Actual'] == 1].count()\n",
    "final_scores[(final_scores['Actual'] == 1)&(final_scores['difference'] != 0)].count()\n",
    "\n",
    "# getting the confusion matrix\n",
    "sns.heatmap(confusion_matrix(test[target], y_pred), annot=True)\n",
    "plt.ylabel('True Classes')\n",
    "plt.xlabel('Predicted Classes')\n",
    "# False Positive: predicted 1 but actual 0\n",
    "# False Negative: Predicted 0 but actual 1\n",
    "# True Postive: predicted 1 and actual 1\n",
    "# True Negative: predicted 0 and actual 0\n",
    "\n",
    "# Precision\n",
    "# TRUE POSITIVES / (TRUE POSITIVES + FALSE POSITIVES)\n",
    "precision_score(test[target],y_pred)\n",
    "\n",
    "# Recall\n",
    "# TRUE POSITIVES / (TRUE POSITIVES + FALSE NEGATIVES)\n",
    "recall_score(test[target],y_pred)\n",
    "\n",
    "# F1 Score\n",
    "# (2*TRUE POSITIVES) / (2*TP + FP + FN)\n",
    "f1_score(test[target],y_pred)\n",
    "\n",
    "# Precision Recall Curve, trade-off between precison and recall\n",
    "display = PrecisionRecallDisplay.from_estimator(logreg, test[features], test[target])"
   ]
  },
  {
   "cell_type": "code",
   "execution_count": null,
   "metadata": {},
   "outputs": [],
   "source": [
    "probs = logreg.predict_proba(test[features])\n",
    "# use 70% threshold\n",
    "new_predictions =[]\n",
    "for i in probs[:,1]:\n",
    "    if i >= 0.7:\n",
    "        new_predictions.append(1)\n",
    "    else:\n",
    "        new_predictions.append(0)\n",
    "sns.heatmap(confusion_matrix(test[target], new_predictions), annot=True)\n",
    "plt.ylabel('True Classes')\n",
    "plt.xlabel('New Predicted Classes')\n",
    "# this would increase accuracy, but also increase False positive\n",
    "\n",
    "# tradeoff between True Positive & False Positive Rate\n",
    "fpr, tpr, thresholds = roc_curve(test[target], probs[:,1])\n",
    "plt.plot(fpr, tpr)\n",
    "plt.xlabel('False Positive Rate')\n",
    "plt.ylabel('True Positive Rate')"
   ]
  },
  {
   "cell_type": "markdown",
   "metadata": {},
   "source": [
    "# Class 9"
   ]
  },
  {
   "cell_type": "code",
   "execution_count": null,
   "metadata": {},
   "outputs": [],
   "source": [
    "import pandas as pd\n",
    "import numpy as np\n",
    "import matplotlib.pyplot as plt\n",
    "import seaborn as sns\n",
    "from sklearn.linear_model import LogisticRegression\n",
    "from sklearn.neighbors import KNeighborsClassifier, KNeighborsRegressor\n",
    "from sklearn.naive_bayes import GaussianNB\n",
    "from sklearn.model_selection import train_test_split, cross_val_score, GridSearchCV #GridSearch is for hyperparameter tuning\n",
    "from sklearn.preprocessing import OneHotEncoder, MinMaxScaler\n",
    "from sklearn.pipeline import Pipeline\n",
    "from sklearn.compose import ColumnTransformer\n",
    "from sklearn.metrics import f1_score, accuracy_score, precision_score, recall_score, PrecisionRecallDisplay, RocCurveDisplay\n",
    "\n",
    "bikes = pd.read_csv('https://raw.githubusercontent.com/delinai/schulich_ds1/main/Datasets/bikes_sharing.csv')\n",
    "bikes.head()"
   ]
  },
  {
   "cell_type": "code",
   "execution_count": null,
   "metadata": {},
   "outputs": [],
   "source": [
    "sns.histplot(bikes['count'])"
   ]
  },
  {
   "cell_type": "code",
   "execution_count": null,
   "metadata": {},
   "outputs": [],
   "source": [
    "# boxplot of usage with repsect to each hour\n",
    "# the range of count from 15 to 17 is the largets, which is rush hours\n",
    "sns.boxplot(x='hour', y='count', data=bikes)"
   ]
  },
  {
   "cell_type": "code",
   "execution_count": null,
   "metadata": {},
   "outputs": [],
   "source": [
    "# recreate our time of day values\n",
    "bikes['datetime'] = pd.to_datetime(bikes['datetime'])\n",
    "bikes['hour'] = bikes['datetime'].apply(lambda x: x.hour)\n",
    "# filter for rush hour rentals in the evenings and use that as a proxy for \"high number of rentals\"\n",
    "bikes[(bikes['hour'] >= 15) & (bikes['hour']<=19)]['count'].mean()\n",
    "# 357.11491228070173\n",
    "bikes['binary_output'] = bikes['count'].apply(lambda x: 1 if x>=357 else 0)\n",
    "bikes.groupby('binary_output')['datetime'].count()"
   ]
  },
  {
   "cell_type": "code",
   "execution_count": null,
   "metadata": {},
   "outputs": [],
   "source": [
    "# split data into X variables and y variable\n",
    "# we are going to predict whether on any given hour, we will rent a HIGH number of bikes (1 = 357+ bikes) OR a LOW number of bikes (0 = <357 bikes)\n",
    "X = bikes[['season', 'holiday', 'workingday', 'weather', 'temp',\n",
    "       'atemp', 'humidity', 'windspeed', 'hour']]\n",
    "y = bikes['binary_output']\n",
    "# reserve 30% for testing\n",
    "X_train, X_test, y_train, y_test = train_test_split(X,y, test_size=0.3, random_state=42)"
   ]
  },
  {
   "cell_type": "code",
   "execution_count": null,
   "metadata": {},
   "outputs": [],
   "source": [
    "# demonstrate what MinMaxScaler() does, standardize between 0 and 1\n",
    "MinMaxScaler().fit_transform(bikes[['temp',\n",
    "       'atemp', 'humidity', 'windspeed']])"
   ]
  },
  {
   "cell_type": "code",
   "execution_count": null,
   "metadata": {},
   "outputs": [],
   "source": [
    "# demonstrate OHE\n",
    "OneHotEncoder().fit_transform(bikes[['season', 'holiday', 'workingday']])\n",
    "\n",
    "# build our pipeline that includes these transformations\n",
    "numeric_columns = ['temp','atemp', 'humidity', 'windspeed']\n",
    "categorical_columns = ['season', 'holiday', 'workingday', 'weather']\n",
    "# create a pre-processing pipeline which includes the steps of Scaling numeric variables and encoding categoricals\n",
    "preprocessor = ColumnTransformer(\n",
    "    transformers=[\n",
    "        ('num',MinMaxScaler(), numeric_columns),\n",
    "        ('cat',OneHotEncoder(handle_unknown='ignore'),categorical_columns)\n",
    "    ]\n",
    ")"
   ]
  },
  {
   "cell_type": "code",
   "execution_count": null,
   "metadata": {},
   "outputs": [],
   "source": [
    "# we are going to test 3 models with cross validation to see which ones work best for this data\n",
    "knn = KNeighborsClassifier()\n",
    "logreg = LogisticRegression()\n",
    "nb = GaussianNB()\n",
    "# cross validation to determine in general which model works best for the given problem\n",
    "knn_scores = cross_val_score(knn, X_train, y_train, scoring='f1', cv=5)\n",
    "logreg_scores = cross_val_score(logreg, X_train, y_train, scoring='f1', cv=5)\n",
    "nb_scores = cross_val_score(nb, X_train, y_train, scoring='f1', cv=5)\n",
    "\n",
    "print(np.mean(knn_scores))\n",
    "print(np.mean(logreg_scores))\n",
    "print(np.mean(nb_scores))"
   ]
  },
  {
   "cell_type": "code",
   "execution_count": null,
   "metadata": {},
   "outputs": [],
   "source": [
    "# build our pipeline\n",
    "pipeline = Pipeline(steps=\n",
    "                    [\n",
    "                        ('preprocessor',preprocessor),\n",
    "                        ('classifier',KNeighborsClassifier())\n",
    "                    ])\n",
    "# a quick side-quest demo of how KNN works\n",
    "knn_15 = KNeighborsClassifier(n_neighbors=15).fit(X_train,y_train)\n",
    "pred_15 = knn_15.predict(X_test)\n",
    "print(accuracy_score(y_test, pred_15))\n",
    "print(f1_score(y_test, pred_15))\n",
    "print(precision_score(y_test, pred_15))\n",
    "print(recall_score(y_test, pred_15))\n",
    "\n",
    "# a quick side-quest demo of how KNN works\n",
    "knn_30 = KNeighborsClassifier(n_neighbors=30).fit(X_train,y_train)\n",
    "pred_30 = knn_30.predict(X_test)\n",
    "print(accuracy_score(y_test, pred_30))\n",
    "print(f1_score(y_test, pred_30))\n",
    "print(precision_score(y_test, pred_30))\n",
    "print(recall_score(y_test, pred_30))"
   ]
  },
  {
   "cell_type": "code",
   "execution_count": null,
   "metadata": {},
   "outputs": [],
   "source": [
    "# hyperparameter tuning\n",
    "# KNN has several hyperparameters we can tune\n",
    "# n_neighbors, weights, metric, algorithm\n",
    "# use GRID SEARCH to find the best combination of hyperparameters for our problem\n",
    "param_grid = {\n",
    "    'classifier__n_neighbors':[5,7,9,15,35,45,55],\n",
    "    'classifier__weights':['uniform','distance'],\n",
    "    'classifier__metric':['euclidean','manhattan','minkowski']\n",
    "}\n",
    "# let's perform gridsearch\n",
    "grid_search = GridSearchCV(pipeline, param_grid, cv=5, verbose=1, scoring='f1')\n",
    "grid_search.fit(X_train,y_train)"
   ]
  },
  {
   "cell_type": "code",
   "execution_count": null,
   "metadata": {},
   "outputs": [],
   "source": [
    "# the best parameters\n",
    "print(grid_search.best_params_)\n",
    "\n",
    "# final pipeline\n",
    "final_classifier = KNeighborsClassifier(n_neighbors=grid_search.best_params_['classifier__n_neighbors'],\n",
    "                                        metric = grid_search.best_params_['classifier__metric'],\n",
    "                                        weights = grid_search.best_params_['classifier__weights']\n",
    "                                        )\n",
    "final_pipeline = Pipeline(steps=\n",
    "                          [\n",
    "                              ('preprocessor',preprocessor),\n",
    "                              ('classifier',final_classifier)\n",
    "                          ])\n",
    "final_pipeline.fit(X_train,y_train)"
   ]
  },
  {
   "cell_type": "code",
   "execution_count": null,
   "metadata": {},
   "outputs": [],
   "source": [
    "pred = final_pipeline.predict(X_test)\n",
    "probs = final_pipeline.predict_proba(X_test)\n",
    "f1_score(y_test, pred)\n",
    "accuracy_score(y_test,pred)\n",
    "precision_score(y_test,pred)\n",
    "recall_score(y_test,pred)"
   ]
  },
  {
   "cell_type": "markdown",
   "metadata": {},
   "source": [
    "# Class 10"
   ]
  },
  {
   "cell_type": "code",
   "execution_count": 2,
   "metadata": {},
   "outputs": [],
   "source": [
    "#SVM demo\n",
    "\n",
    "from sklearn.svm import SVC\n",
    "from matplotlib import pyplot as plt\n",
    "import numpy as np\n",
    "import sklearn\n",
    "\n",
    "theme = 'seismic'\n",
    "\n",
    "from sklearn.datasets import make_blobs"
   ]
  },
  {
   "cell_type": "code",
   "execution_count": 3,
   "metadata": {},
   "outputs": [
    {
     "data": {
      "text/plain": [
       "array([1, 1, 0, 0, 1, 1, 1, 1, 1, 0, 0, 0, 0, 1, 0, 0, 0, 1, 0, 0, 1, 1,\n",
       "       1, 1, 1, 0, 0, 0, 1, 0, 1, 0, 0, 0, 0, 1, 1, 0, 1, 0, 1, 0, 1, 1,\n",
       "       0, 1, 1, 0, 1, 0])"
      ]
     },
     "execution_count": 3,
     "metadata": {},
     "output_type": "execute_result"
    }
   ],
   "source": [
    "X, y = make_blobs(n_samples=50, centers=2, random_state=0, cluster_std=1.3)\n",
    "y"
   ]
  },
  {
   "cell_type": "code",
   "execution_count": 4,
   "metadata": {},
   "outputs": [
    {
     "data": {
      "image/png": "[encoded data removed]",
      "text/plain": [
       "<Figure size 640x480 with 1 Axes>"
      ]
     },
     "metadata": {},
     "output_type": "display_data"
    }
   ],
   "source": [
    "def plot_svc_decision_boundary(svm_clf, xmin, xmax):\n",
    "    w = svm_clf.coef_[0]\n",
    "    b = svm_clf.intercept_[0]\n",
    "    x0 = np.linspace(xmin, xmax, 200)\n",
    "    decision_boundary = -w[0]/w[1] * x0 - b/w[1]\n",
    "    margin = 1/w[1]\n",
    "    gutter_up = decision_boundary+margin\n",
    "    gutter_down = decision_boundary-margin\n",
    "    svs = svm_clf.support_vectors_\n",
    "    plt.plot(x0, decision_boundary, \"k-\", linewidth=2)\n",
    "    plt.plot(x0, gutter_up, \"k-\", linewidth=2)\n",
    "    plt.plot(x0, gutter_down, \"k-\", linewidth=2)\n",
    "\n",
    "plt.scatter(X[:,0], X[:,1], c=y, s=50)\n",
    "\n",
    "svm_clf = SVC(kernel='linear', C=100)\n",
    "svm_clf.fit(X,y)\n",
    "\n",
    "plt.xlim(0,4)\n",
    "plot_svc_decision_boundary(svm_clf,0,4)"
   ]
  },
  {
   "cell_type": "code",
   "execution_count": 5,
   "metadata": {},
   "outputs": [
    {
     "data": {
      "text/plain": [
       "<matplotlib.collections.PathCollection at 0x12d823ef0>"
      ]
     },
     "execution_count": 5,
     "metadata": {},
     "output_type": "execute_result"
    },
    {
     "data": {
      "image/png": "[encoded data removed]",
      "text/plain": [
       "<Figure size 640x480 with 1 Axes>"
      ]
     },
     "metadata": {},
     "output_type": "display_data"
    }
   ],
   "source": [
    "plt.scatter(X[:,0], X[:,1], c=y, s=50)"
   ]
  },
  {
   "cell_type": "code",
   "execution_count": 6,
   "metadata": {},
   "outputs": [
    {
     "data": {
      "text/html": [
       "<style>#sk-container-id-1 {\n",
       "  /* Definition of color scheme common for light and dark mode */\n",
       "  --sklearn-color-text: black;\n",
       "  --sklearn-color-line: gray;\n",
       "  /* Definition of color scheme for unfitted estimators */\n",
       "  --sklearn-color-unfitted-level-0: #fff5e6;\n",
       "  --sklearn-color-unfitted-level-1: #f6e4d2;\n",
       "  --sklearn-color-unfitted-level-2: #ffe0b3;\n",
       "  --sklearn-color-unfitted-level-3: chocolate;\n",
       "  /* Definition of color scheme for fitted estimators */\n",
       "  --sklearn-color-fitted-level-0: #f0f8ff;\n",
       "  --sklearn-color-fitted-level-1: #d4ebff;\n",
       "  --sklearn-color-fitted-level-2: #b3dbfd;\n",
       "  --sklearn-color-fitted-level-3: cornflowerblue;\n",
       "\n",
       "  /* Specific color for light theme */\n",
       "  --sklearn-color-text-on-default-background: var(--sg-text-color, var(--theme-code-foreground, var(--jp-content-font-color1, black)));\n",
       "  --sklearn-color-background: var(--sg-background-color, var(--theme-background, var(--jp-layout-color0, white)));\n",
       "  --sklearn-color-border-box: var(--sg-text-color, var(--theme-code-foreground, var(--jp-content-font-color1, black)));\n",
       "  --sklearn-color-icon: #696969;\n",
       "\n",
       "  @media (prefers-color-scheme: dark) {\n",
       "    /* Redefinition of color scheme for dark theme */\n",
       "    --sklearn-color-text-on-default-background: var(--sg-text-color, var(--theme-code-foreground, var(--jp-content-font-color1, white)));\n",
       "    --sklearn-color-background: var(--sg-background-color, var(--theme-background, var(--jp-layout-color0, #111)));\n",
       "    --sklearn-color-border-box: var(--sg-text-color, var(--theme-code-foreground, var(--jp-content-font-color1, white)));\n",
       "    --sklearn-color-icon: #878787;\n",
       "  }\n",
       "}\n",
       "\n",
       "#sk-container-id-1 {\n",
       "  color: var(--sklearn-color-text);\n",
       "}\n",
       "\n",
       "#sk-container-id-1 pre {\n",
       "  padding: 0;\n",
       "}\n",
       "\n",
       "#sk-container-id-1 input.sk-hidden--visually {\n",
       "  border: 0;\n",
       "  clip: rect(1px 1px 1px 1px);\n",
       "  clip: rect(1px, 1px, 1px, 1px);\n",
       "  height: 1px;\n",
       "  margin: -1px;\n",
       "  overflow: hidden;\n",
       "  padding: 0;\n",
       "  position: absolute;\n",
       "  width: 1px;\n",
       "}\n",
       "\n",
       "#sk-container-id-1 div.sk-dashed-wrapped {\n",
       "  border: 1px dashed var(--sklearn-color-line);\n",
       "  margin: 0 0.4em 0.5em 0.4em;\n",
       "  box-sizing: border-box;\n",
       "  padding-bottom: 0.4em;\n",
       "  background-color: var(--sklearn-color-background);\n",
       "}\n",
       "\n",
       "#sk-container-id-1 div.sk-container {\n",
       "  /* jupyter's `normalize.less` sets `[hidden] { display: none; }`\n",
       "     but bootstrap.min.css set `[hidden] { display: none !important; }`\n",
       "     so we also need the `!important` here to be able to override the\n",
       "     default hidden behavior on the sphinx rendered scikit-learn.org.\n",
       "     See: https://github.com/scikit-learn/scikit-learn/issues/21755 */\n",
       "  display: inline-block !important;\n",
       "  position: relative;\n",
       "}\n",
       "\n",
       "#sk-container-id-1 div.sk-text-repr-fallback {\n",
       "  display: none;\n",
       "}\n",
       "\n",
       "div.sk-parallel-item,\n",
       "div.sk-serial,\n",
       "div.sk-item {\n",
       "  /* draw centered vertical line to link estimators */\n",
       "  background-image: linear-gradient(var(--sklearn-color-text-on-default-background), var(--sklearn-color-text-on-default-background));\n",
       "  background-size: 2px 100%;\n",
       "  background-repeat: no-repeat;\n",
       "  background-position: center center;\n",
       "}\n",
       "\n",
       "/* Parallel-specific style estimator block */\n",
       "\n",
       "#sk-container-id-1 div.sk-parallel-item::after {\n",
       "  content: \"\";\n",
       "  width: 100%;\n",
       "  border-bottom: 2px solid var(--sklearn-color-text-on-default-background);\n",
       "  flex-grow: 1;\n",
       "}\n",
       "\n",
       "#sk-container-id-1 div.sk-parallel {\n",
       "  display: flex;\n",
       "  align-items: stretch;\n",
       "  justify-content: center;\n",
       "  background-color: var(--sklearn-color-background);\n",
       "  position: relative;\n",
       "}\n",
       "\n",
       "#sk-container-id-1 div.sk-parallel-item {\n",
       "  display: flex;\n",
       "  flex-direction: column;\n",
       "}\n",
       "\n",
       "#sk-container-id-1 div.sk-parallel-item:first-child::after {\n",
       "  align-self: flex-end;\n",
       "  width: 50%;\n",
       "}\n",
       "\n",
       "#sk-container-id-1 div.sk-parallel-item:last-child::after {\n",
       "  align-self: flex-start;\n",
       "  width: 50%;\n",
       "}\n",
       "\n",
       "#sk-container-id-1 div.sk-parallel-item:only-child::after {\n",
       "  width: 0;\n",
       "}\n",
       "\n",
       "/* Serial-specific style estimator block */\n",
       "\n",
       "#sk-container-id-1 div.sk-serial {\n",
       "  display: flex;\n",
       "  flex-direction: column;\n",
       "  align-items: center;\n",
       "  background-color: var(--sklearn-color-background);\n",
       "  padding-right: 1em;\n",
       "  padding-left: 1em;\n",
       "}\n",
       "\n",
       "\n",
       "/* Toggleable style: style used for estimator/Pipeline/ColumnTransformer box that is\n",
       "clickable and can be expanded/collapsed.\n",
       "- Pipeline and ColumnTransformer use this feature and define the default style\n",
       "- Estimators will overwrite some part of the style using the `sk-estimator` class\n",
       "*/\n",
       "\n",
       "/* Pipeline and ColumnTransformer style (default) */\n",
       "\n",
       "#sk-container-id-1 div.sk-toggleable {\n",
       "  /* Default theme specific background. It is overwritten whether we have a\n",
       "  specific estimator or a Pipeline/ColumnTransformer */\n",
       "  background-color: var(--sklearn-color-background);\n",
       "}\n",
       "\n",
       "/* Toggleable label */\n",
       "#sk-container-id-1 label.sk-toggleable__label {\n",
       "  cursor: pointer;\n",
       "  display: block;\n",
       "  width: 100%;\n",
       "  margin-bottom: 0;\n",
       "  padding: 0.5em;\n",
       "  box-sizing: border-box;\n",
       "  text-align: center;\n",
       "}\n",
       "\n",
       "#sk-container-id-1 label.sk-toggleable__label-arrow:before {\n",
       "  /* Arrow on the left of the label */\n",
       "  content: \"▸\";\n",
       "  float: left;\n",
       "  margin-right: 0.25em;\n",
       "  color: var(--sklearn-color-icon);\n",
       "}\n",
       "\n",
       "#sk-container-id-1 label.sk-toggleable__label-arrow:hover:before {\n",
       "  color: var(--sklearn-color-text);\n",
       "}\n",
       "\n",
       "/* Toggleable content - dropdown */\n",
       "\n",
       "#sk-container-id-1 div.sk-toggleable__content {\n",
       "  max-height: 0;\n",
       "  max-width: 0;\n",
       "  overflow: hidden;\n",
       "  text-align: left;\n",
       "  /* unfitted */\n",
       "  background-color: var(--sklearn-color-unfitted-level-0);\n",
       "}\n",
       "\n",
       "#sk-container-id-1 div.sk-toggleable__content.fitted {\n",
       "  /* fitted */\n",
       "  background-color: var(--sklearn-color-fitted-level-0);\n",
       "}\n",
       "\n",
       "#sk-container-id-1 div.sk-toggleable__content pre {\n",
       "  margin: 0.2em;\n",
       "  border-radius: 0.25em;\n",
       "  color: var(--sklearn-color-text);\n",
       "  /* unfitted */\n",
       "  background-color: var(--sklearn-color-unfitted-level-0);\n",
       "}\n",
       "\n",
       "#sk-container-id-1 div.sk-toggleable__content.fitted pre {\n",
       "  /* unfitted */\n",
       "  background-color: var(--sklearn-color-fitted-level-0);\n",
       "}\n",
       "\n",
       "#sk-container-id-1 input.sk-toggleable__control:checked~div.sk-toggleable__content {\n",
       "  /* Expand drop-down */\n",
       "  max-height: 200px;\n",
       "  max-width: 100%;\n",
       "  overflow: auto;\n",
       "}\n",
       "\n",
       "#sk-container-id-1 input.sk-toggleable__control:checked~label.sk-toggleable__label-arrow:before {\n",
       "  content: \"▾\";\n",
       "}\n",
       "\n",
       "/* Pipeline/ColumnTransformer-specific style */\n",
       "\n",
       "#sk-container-id-1 div.sk-label input.sk-toggleable__control:checked~label.sk-toggleable__label {\n",
       "  color: var(--sklearn-color-text);\n",
       "  background-color: var(--sklearn-color-unfitted-level-2);\n",
       "}\n",
       "\n",
       "#sk-container-id-1 div.sk-label.fitted input.sk-toggleable__control:checked~label.sk-toggleable__label {\n",
       "  background-color: var(--sklearn-color-fitted-level-2);\n",
       "}\n",
       "\n",
       "/* Estimator-specific style */\n",
       "\n",
       "/* Colorize estimator box */\n",
       "#sk-container-id-1 div.sk-estimator input.sk-toggleable__control:checked~label.sk-toggleable__label {\n",
       "  /* unfitted */\n",
       "  background-color: var(--sklearn-color-unfitted-level-2);\n",
       "}\n",
       "\n",
       "#sk-container-id-1 div.sk-estimator.fitted input.sk-toggleable__control:checked~label.sk-toggleable__label {\n",
       "  /* fitted */\n",
       "  background-color: var(--sklearn-color-fitted-level-2);\n",
       "}\n",
       "\n",
       "#sk-container-id-1 div.sk-label label.sk-toggleable__label,\n",
       "#sk-container-id-1 div.sk-label label {\n",
       "  /* The background is the default theme color */\n",
       "  color: var(--sklearn-color-text-on-default-background);\n",
       "}\n",
       "\n",
       "/* On hover, darken the color of the background */\n",
       "#sk-container-id-1 div.sk-label:hover label.sk-toggleable__label {\n",
       "  color: var(--sklearn-color-text);\n",
       "  background-color: var(--sklearn-color-unfitted-level-2);\n",
       "}\n",
       "\n",
       "/* Label box, darken color on hover, fitted */\n",
       "#sk-container-id-1 div.sk-label.fitted:hover label.sk-toggleable__label.fitted {\n",
       "  color: var(--sklearn-color-text);\n",
       "  background-color: var(--sklearn-color-fitted-level-2);\n",
       "}\n",
       "\n",
       "/* Estimator label */\n",
       "\n",
       "#sk-container-id-1 div.sk-label label {\n",
       "  font-family: monospace;\n",
       "  font-weight: bold;\n",
       "  display: inline-block;\n",
       "  line-height: 1.2em;\n",
       "}\n",
       "\n",
       "#sk-container-id-1 div.sk-label-container {\n",
       "  text-align: center;\n",
       "}\n",
       "\n",
       "/* Estimator-specific */\n",
       "#sk-container-id-1 div.sk-estimator {\n",
       "  font-family: monospace;\n",
       "  border: 1px dotted var(--sklearn-color-border-box);\n",
       "  border-radius: 0.25em;\n",
       "  box-sizing: border-box;\n",
       "  margin-bottom: 0.5em;\n",
       "  /* unfitted */\n",
       "  background-color: var(--sklearn-color-unfitted-level-0);\n",
       "}\n",
       "\n",
       "#sk-container-id-1 div.sk-estimator.fitted {\n",
       "  /* fitted */\n",
       "  background-color: var(--sklearn-color-fitted-level-0);\n",
       "}\n",
       "\n",
       "/* on hover */\n",
       "#sk-container-id-1 div.sk-estimator:hover {\n",
       "  /* unfitted */\n",
       "  background-color: var(--sklearn-color-unfitted-level-2);\n",
       "}\n",
       "\n",
       "#sk-container-id-1 div.sk-estimator.fitted:hover {\n",
       "  /* fitted */\n",
       "  background-color: var(--sklearn-color-fitted-level-2);\n",
       "}\n",
       "\n",
       "/* Specification for estimator info (e.g. \"i\" and \"?\") */\n",
       "\n",
       "/* Common style for \"i\" and \"?\" */\n",
       "\n",
       ".sk-estimator-doc-link,\n",
       "a:link.sk-estimator-doc-link,\n",
       "a:visited.sk-estimator-doc-link {\n",
       "  float: right;\n",
       "  font-size: smaller;\n",
       "  line-height: 1em;\n",
       "  font-family: monospace;\n",
       "  background-color: var(--sklearn-color-background);\n",
       "  border-radius: 1em;\n",
       "  height: 1em;\n",
       "  width: 1em;\n",
       "  text-decoration: none !important;\n",
       "  margin-left: 1ex;\n",
       "  /* unfitted */\n",
       "  border: var(--sklearn-color-unfitted-level-1) 1pt solid;\n",
       "  color: var(--sklearn-color-unfitted-level-1);\n",
       "}\n",
       "\n",
       ".sk-estimator-doc-link.fitted,\n",
       "a:link.sk-estimator-doc-link.fitted,\n",
       "a:visited.sk-estimator-doc-link.fitted {\n",
       "  /* fitted */\n",
       "  border: var(--sklearn-color-fitted-level-1) 1pt solid;\n",
       "  color: var(--sklearn-color-fitted-level-1);\n",
       "}\n",
       "\n",
       "/* On hover */\n",
       "div.sk-estimator:hover .sk-estimator-doc-link:hover,\n",
       ".sk-estimator-doc-link:hover,\n",
       "div.sk-label-container:hover .sk-estimator-doc-link:hover,\n",
       ".sk-estimator-doc-link:hover {\n",
       "  /* unfitted */\n",
       "  background-color: var(--sklearn-color-unfitted-level-3);\n",
       "  color: var(--sklearn-color-background);\n",
       "  text-decoration: none;\n",
       "}\n",
       "\n",
       "div.sk-estimator.fitted:hover .sk-estimator-doc-link.fitted:hover,\n",
       ".sk-estimator-doc-link.fitted:hover,\n",
       "div.sk-label-container:hover .sk-estimator-doc-link.fitted:hover,\n",
       ".sk-estimator-doc-link.fitted:hover {\n",
       "  /* fitted */\n",
       "  background-color: var(--sklearn-color-fitted-level-3);\n",
       "  color: var(--sklearn-color-background);\n",
       "  text-decoration: none;\n",
       "}\n",
       "\n",
       "/* Span, style for the box shown on hovering the info icon */\n",
       ".sk-estimator-doc-link span {\n",
       "  display: none;\n",
       "  z-index: 9999;\n",
       "  position: relative;\n",
       "  font-weight: normal;\n",
       "  right: .2ex;\n",
       "  padding: .5ex;\n",
       "  margin: .5ex;\n",
       "  width: min-content;\n",
       "  min-width: 20ex;\n",
       "  max-width: 50ex;\n",
       "  color: var(--sklearn-color-text);\n",
       "  box-shadow: 2pt 2pt 4pt #999;\n",
       "  /* unfitted */\n",
       "  background: var(--sklearn-color-unfitted-level-0);\n",
       "  border: .5pt solid var(--sklearn-color-unfitted-level-3);\n",
       "}\n",
       "\n",
       ".sk-estimator-doc-link.fitted span {\n",
       "  /* fitted */\n",
       "  background: var(--sklearn-color-fitted-level-0);\n",
       "  border: var(--sklearn-color-fitted-level-3);\n",
       "}\n",
       "\n",
       ".sk-estimator-doc-link:hover span {\n",
       "  display: block;\n",
       "}\n",
       "\n",
       "/* \"?\"-specific style due to the `<a>` HTML tag */\n",
       "\n",
       "#sk-container-id-1 a.estimator_doc_link {\n",
       "  float: right;\n",
       "  font-size: 1rem;\n",
       "  line-height: 1em;\n",
       "  font-family: monospace;\n",
       "  background-color: var(--sklearn-color-background);\n",
       "  border-radius: 1rem;\n",
       "  height: 1rem;\n",
       "  width: 1rem;\n",
       "  text-decoration: none;\n",
       "  /* unfitted */\n",
       "  color: var(--sklearn-color-unfitted-level-1);\n",
       "  border: var(--sklearn-color-unfitted-level-1) 1pt solid;\n",
       "}\n",
       "\n",
       "#sk-container-id-1 a.estimator_doc_link.fitted {\n",
       "  /* fitted */\n",
       "  border: var(--sklearn-color-fitted-level-1) 1pt solid;\n",
       "  color: var(--sklearn-color-fitted-level-1);\n",
       "}\n",
       "\n",
       "/* On hover */\n",
       "#sk-container-id-1 a.estimator_doc_link:hover {\n",
       "  /* unfitted */\n",
       "  background-color: var(--sklearn-color-unfitted-level-3);\n",
       "  color: var(--sklearn-color-background);\n",
       "  text-decoration: none;\n",
       "}\n",
       "\n",
       "#sk-container-id-1 a.estimator_doc_link.fitted:hover {\n",
       "  /* fitted */\n",
       "  background-color: var(--sklearn-color-fitted-level-3);\n",
       "}\n",
       "</style><div id=\"sk-container-id-1\" class=\"sk-top-container\"><div class=\"sk-text-repr-fallback\"><pre>SVC(C=100, kernel=&#x27;linear&#x27;)</pre><b>In a Jupyter environment, please rerun this cell to show the HTML representation or trust the notebook. <br />On GitHub, the HTML representation is unable to render, please try loading this page with nbviewer.org.</b></div><div class=\"sk-container\" hidden><div class=\"sk-item\"><div class=\"sk-estimator fitted sk-toggleable\"><input class=\"sk-toggleable__control sk-hidden--visually\" id=\"sk-estimator-id-1\" type=\"checkbox\" checked><label for=\"sk-estimator-id-1\" class=\"sk-toggleable__label fitted sk-toggleable__label-arrow fitted\">&nbsp;&nbsp;SVC<a class=\"sk-estimator-doc-link fitted\" rel=\"noreferrer\" target=\"_blank\" href=\"https://scikit-learn.org/1.4/modules/generated/sklearn.svm.SVC.html\">?<span>Documentation for SVC</span></a><span class=\"sk-estimator-doc-link fitted\">i<span>Fitted</span></span></label><div class=\"sk-toggleable__content fitted\"><pre>SVC(C=100, kernel=&#x27;linear&#x27;)</pre></div> </div></div></div></div>"
      ],
      "text/plain": [
       "SVC(C=100, kernel='linear')"
      ]
     },
     "execution_count": 6,
     "metadata": {},
     "output_type": "execute_result"
    }
   ],
   "source": [
    "svm_clf = SVC(kernel='linear', C=100)\n",
    "svm_clf.fit(X,y)"
   ]
  },
  {
   "cell_type": "code",
   "execution_count": 7,
   "metadata": {},
   "outputs": [
    {
     "data": {
      "image/png": "[encoded data removed]",
      "text/plain": [
       "<Figure size 640x480 with 1 Axes>"
      ]
     },
     "metadata": {},
     "output_type": "display_data"
    }
   ],
   "source": [
    "plt.xlim(0,4)\n",
    "plot_svc_decision_boundary(svm_clf,0,4)"
   ]
  },
  {
   "cell_type": "code",
   "execution_count": 8,
   "metadata": {},
   "outputs": [
    {
     "data": {
      "text/plain": [
       "array([1, 1, 0, 0, 1, 1, 1, 0, 1, 0, 0, 0, 0, 1, 0, 0, 0, 1, 1, 0, 1, 1,\n",
       "       1, 1, 1, 1, 0, 0, 1, 1, 1, 0, 0, 0, 0, 1, 1, 0, 1, 0, 1, 0, 1, 1,\n",
       "       0, 1, 1, 0, 1, 0])"
      ]
     },
     "execution_count": 8,
     "metadata": {},
     "output_type": "execute_result"
    }
   ],
   "source": [
    "svm_clf.predict(X)"
   ]
  },
  {
   "cell_type": "code",
   "execution_count": 9,
   "metadata": {},
   "outputs": [
    {
     "data": {
      "text/plain": [
       "array([0, 0, 0, 0, 0, 0, 0, 0, 0, 0, 0, 0, 0, 0, 0, 0, 0, 0, 0, 0, 0, 0,\n",
       "       0, 0, 0, 0, 0, 0, 0, 0, 0, 0, 0, 0, 0, 0, 0, 0, 0, 0, 0, 0, 0, 0,\n",
       "       0, 0, 0, 0, 0, 0, 1, 1, 1, 1, 1, 1, 1, 1, 1, 1, 1, 1, 1, 1, 1, 1,\n",
       "       1, 1, 1, 1, 1, 1, 1, 1, 1, 1, 1, 1, 1, 1, 1, 1, 1, 1, 1, 1, 1, 1,\n",
       "       1, 1, 1, 1, 1, 1, 1, 1, 1, 1, 1, 1, 2, 2, 2, 2, 2, 2, 2, 2, 2, 2,\n",
       "       2, 2, 2, 2, 2, 2, 2, 2, 2, 2, 2, 2, 2, 2, 2, 2, 2, 2, 2, 2, 2, 2,\n",
       "       2, 2, 2, 2, 2, 2, 2, 2, 2, 2, 2, 2, 2, 2, 2, 2, 2, 2])"
      ]
     },
     "execution_count": 9,
     "metadata": {},
     "output_type": "execute_result"
    }
   ],
   "source": [
    "from sklearn.datasets import load_iris\n",
    "data = load_iris()\n",
    "X,y = data.data[:, (2,3)], data.target\n",
    "y"
   ]
  },
  {
   "cell_type": "code",
   "execution_count": 10,
   "metadata": {},
   "outputs": [
    {
     "data": {
      "image/png": "[encoded data removed]",
      "text/plain": [
       "<Figure size 640x480 with 1 Axes>"
      ]
     },
     "metadata": {},
     "output_type": "display_data"
    }
   ],
   "source": [
    "setosa_and_versicolor = (y==0) | (y==1)\n",
    "\n",
    "X = X[setosa_and_versicolor]\n",
    "y = y[setosa_and_versicolor]\n",
    "plt.scatter(X[:,0], X[:,1], c=y, marker='o')\n",
    "\n",
    "svm_clf = SVC(kernel='linear', C=100)\n",
    "svm_clf.fit(X,y)\n",
    "\n",
    "plot_svc_decision_boundary(svm_clf, 1,5)"
   ]
  },
  {
   "cell_type": "code",
   "execution_count": null,
   "metadata": {},
   "outputs": [],
   "source": [
    "# polynomial kernel\n",
    "from sklearn.datasets import make_moons\n",
    "X,y = make_moons(n_samples=100, noise=0.2)\n",
    "def plot_predictions(clf, axes):\n",
    "    x0s = np.linspace(axes[0], axes[1], 100)\n",
    "    x1s = np.linspace(axes[2], axes[3], 100)\n",
    "    x0, x1 = np.meshgrid(x0s, x1s)\n",
    "    X = np.c_[x0.ravel(), x1.ravel()]\n",
    "    y_pred = clf.predict(X).reshape(x0.shape)\n",
    "    y_decision = clf.decision_function(X).reshape(x0.shape)\n",
    "    plt.contourf(x0, x1, y_pred, cmap='seismic', alpha=0.2)\n",
    "    plt.contourf(x0, x1, y_decision, cmap='seismic', alpha=0.1)\n",
    "plt.scatter(X[:,0], X[:,1], c=y, cmap='seismic')\n",
    "svm_clf = SVC(kernel='poly', degree=9, coef0=7, C=1000)\n",
    "svm_clf.fit(X,y)\n",
    "plot_predictions(svm_clf, [-1.5, 2.5, -1, 1.5])"
   ]
  },
  {
   "cell_type": "code",
   "execution_count": null,
   "metadata": {},
   "outputs": [],
   "source": [
    "# RBF kernel\n",
    "\n",
    "X,y = make_moons(n_samples=100, noise=0.2)\n",
    "def plot_predictions(clf, axes):\n",
    "    x0s = np.linspace(axes[0], axes[1], 100)\n",
    "    x1s = np.linspace(axes[2], axes[3], 100)\n",
    "    x0, x1 = np.meshgrid(x0s, x1s)\n",
    "    X = np.c_[x0.ravel(), x1.ravel()]\n",
    "    y_pred = clf.predict(X).reshape(x0.shape)\n",
    "    y_decision = clf.decision_function(X).reshape(x0.shape)\n",
    "    plt.contourf(x0, x1, y_pred, cmap=theme, alpha=0.2)\n",
    "    plt.contourf(x0, x1, y_decision, cmap=theme, alpha=0.1)\n",
    "plt.scatter(X[:,0], X[:,1], c=y, cmap='seismic')\n",
    "\n",
    "svm_clf = SVC(kernel='rbf', gamma=100, C=20)\n",
    "svm_clf.fit(X,y)\n",
    "plot_predictions(svm_clf, [-1.5, 2.5, -1, 1.5])"
   ]
  },
  {
   "cell_type": "code",
   "execution_count": null,
   "metadata": {},
   "outputs": [],
   "source": [
    "plt.scatter(X[:,0], X[:,1], c=y, cmap='seismic')\n",
    "\n",
    "svm_clf = SVC(kernel='rbf', gamma=0.4, C=20)\n",
    "svm_clf.fit(X,y)\n",
    "\n",
    "plot_predictions(svm_clf, [-1.5, 2.5, -1, 1.5])"
   ]
  },
  {
   "cell_type": "code",
   "execution_count": null,
   "metadata": {},
   "outputs": [],
   "source": [
    "# SVM REGRESSION\n",
    "\n",
    "from sklearn.svm import LinearSVR\n",
    "np.random.seed(50)\n",
    "m=100\n",
    "X=3*np.random.rand(m,1)\n",
    "y=(5+2*X+np.random.randn(m,1)).ravel()\n",
    "def plot_svm_regression(svm_reg, X,y, axes):\n",
    "    x1s = np.linspace(axes[0], axes[1], 100).reshape(100,1)\n",
    "    y_pred = svm_reg.predict(x1s)\n",
    "    plt.plot(x1s, y_pred, \"k-\", linewidth=2)\n",
    "    plt.plot(x1s, y_pred + svm_reg.epsilon, 'k--')\n",
    "    plt.plot(x1s, y_pred - svm_reg.epsilon, 'k--')\n",
    "    plt.plot(X,y,'bo')\n",
    "    plt.axis(axes)\n",
    "svm_reg = LinearSVR(epsilon=0.3)\n",
    "svm_reg.fit(X,y)\n",
    "plot_svm_regression(svm_reg, X,y, [0,2,3,11])"
   ]
  },
  {
   "cell_type": "code",
   "execution_count": null,
   "metadata": {},
   "outputs": [],
   "source": [
    "import pandas as pd\n",
    "bikes = pd.read_csv('https://raw.githubusercontent.com/delinai/schulich_ds1/main/Datasets/bikes_sharing.csv')\n",
    "bikes.head(\n",
    "    \n",
    ")"
   ]
  },
  {
   "cell_type": "code",
   "execution_count": null,
   "metadata": {},
   "outputs": [],
   "source": [
    "X = bikes[['temp','atemp','humidity','windspeed']]\n",
    "y = bikes['count']\n",
    "from sklearn.linear_model import LinearRegression\n",
    "from sklearn.metrics import mean_squared_error, accuracy_score, precision_score, recall_score, f1_score, roc_auc_score\n",
    "from sklearn.model_selection import RandomizedSearchCV, train_test_split"
   ]
  },
  {
   "cell_type": "code",
   "execution_count": null,
   "metadata": {},
   "outputs": [],
   "source": [
    "X_train, X_test, y_train, y_test = train_test_split(X,y)\n",
    "linreg = LinearRegression()\n",
    "reg_model = linreg.fit(X_train,y_train)\n",
    "pred = reg_model.predict(X_test)\n",
    "np.sqrt(mean_squared_error(y_test, pred))\n",
    "\n",
    "lin_SVR = LinearSVR(epsilon=10)\n",
    "linsvr = lin_SVR.fit(X_train,y_train)\n",
    "pred2 = linsvr.predict(X_test)\n",
    "\n",
    "np.sqrt(mean_squared_error(y_test, pred2))"
   ]
  },
  {
   "cell_type": "code",
   "execution_count": null,
   "metadata": {},
   "outputs": [],
   "source": [
    "params = {'epsilon':np.linspace(0,1,10),\n",
    "          'max_iter':[1000,5000,10000]}\n",
    "random_search = RandomizedSearchCV(estimator=linsvr,\n",
    "                                   param_distributions=params,\n",
    "                                   n_iter=50,\n",
    "                                   scoring='neg_mean_absolute_error',\n",
    "                                   cv=5)\n",
    "random_search.fit(X_train, y_train)"
   ]
  },
  {
   "cell_type": "code",
   "execution_count": null,
   "metadata": {},
   "outputs": [],
   "source": [
    "random_search.best_params_\n",
    "bikes['binary_output'] = bikes['count'].apply(lambda x: 1 if x >= 145 else 0)\n",
    "svc = SVC()\n",
    "params = {\n",
    "    'C':np.linspace(1,4,20),\n",
    "    'gamma': np.linspace(1,4,20),\n",
    "    'kernel':['linear','rbf','poly']\n",
    "\n",
    "}"
   ]
  },
  {
   "cell_type": "code",
   "execution_count": null,
   "metadata": {},
   "outputs": [],
   "source": [
    "#random_search.fit(X_train, y_train)\n",
    "#random_search.best_params_\n",
    "data = load_iris()\n",
    "X,y = data.data[:, (2,3)], data.target\n",
    "setosa_and_versicolor = (y==0) | (y==1)\n",
    "\n",
    "X = X[setosa_and_versicolor]\n",
    "y = y[setosa_and_versicolor]\n",
    "params = {\n",
    "    'C':np.logspace(-4,4,20),\n",
    "    'gamma': np.logspace(-4,4,20),\n",
    "    'kernel':['linear','rbf','poly']\n",
    "\n",
    "}\n",
    "random_search = RandomizedSearchCV(\n",
    "    estimator=svc,\n",
    "    param_distributions=params,\n",
    "    n_iter=50,\n",
    "    scoring='accuracy',\n",
    "    cv=5\n",
    ")\n",
    "\n",
    "X_train, X_test, y_train, y_test = train_test_split(X,y)\n",
    "random_search.fit(X_train, y_train)\n",
    "\n",
    "random_search.best_estimator_"
   ]
  },
  {
   "cell_type": "code",
   "execution_count": null,
   "metadata": {},
   "outputs": [],
   "source": [
    "from sklearn.pipeline import Pipeline\n",
    "from sklearn.neighbors import KNeighborsClassifier, KNeighborsRegressor\n",
    "\n",
    "pipeline = Pipeline(steps=\n",
    "                    [\n",
    "                        ('preprocessor',preprocessor),\n",
    "                        ('classifier',KNeighborsClassifier())\n",
    "                    ])\n",
    "\n",
    "knn_15 = KNeighborsClassifier(n_neighbors=15).fit(X_train,y_train)\n",
    "pred_15 = knn_15.predict(X_test)\n",
    "print(accuracy_score(y_test, pred_15))\n",
    "print(f1_score(y_test, pred_15))\n",
    "print(precision_score(y_test, pred_15))\n",
    "print(recall_score(y_test, pred_15))"
   ]
  }
 ],
 "metadata": {
  "kernelspec": {
   "display_name": "Python 3",
   "language": "python",
   "name": "python3"
  },
  "language_info": {
   "codemirror_mode": {
    "name": "ipython",
    "version": 3
   },
   "file_extension": ".py",
   "mimetype": "text/x-python",
   "name": "python",
   "nbconvert_exporter": "python",
   "pygments_lexer": "ipython3",
   "version": "3.12.4"
  }
 },
 "nbformat": 4,
 "nbformat_minor": 2
}
