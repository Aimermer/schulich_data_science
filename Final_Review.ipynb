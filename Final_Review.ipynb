{
 "cells": [
  {
   "cell_type": "markdown",
   "metadata": {},
   "source": [
    "# Class 2"
   ]
  },
  {
   "cell_type": "code",
   "execution_count": null,
   "metadata": {},
   "outputs": [],
   "source": [
    "import pandas as pd\n",
    "import numpy as np\n",
    "import seaborn as sns\n",
    "import matplotlib.pyplot as plt\n",
    "\n",
    "df = pd.read_csv('https://raw.githubusercontent.com/delinai/schulich_ds1/main/Datasets/kc_house_data.csv')\n",
    "df.head()"
   ]
  },
  {
   "cell_type": "code",
   "execution_count": null,
   "metadata": {},
   "outputs": [],
   "source": [
    "# displaying the first/last 11 columns\n",
    "df.iloc[0:10,:11].head()\n",
    "df.iloc[:,11:].head()"
   ]
  },
  {
   "cell_type": "code",
   "execution_count": null,
   "metadata": {},
   "outputs": [],
   "source": [
    "# univariate analysis\n",
    "df.describe()\n",
    "\n",
    "# understand the output itself\n",
    "sns.histplot(df['price'])\n",
    "plt.hist(df['price'])\n",
    "\n",
    "# cleaning a specific data point or value\n",
    "df['bedrooms'] = df['bedrooms'].replace(33, 3) # replacing 33 with 3"
   ]
  },
  {
   "cell_type": "code",
   "execution_count": null,
   "metadata": {},
   "outputs": [],
   "source": [
    "# finding the specific row\n",
    "df.loc[15870]\n",
    "# setting specific condition\n",
    "sns.boxplot(df['bathrooms'])\n",
    "df[df['bathrooms'] > 3.5].describe()\n",
    "sns.boxplot(df[df['bathrooms'] > 3.5]['bathrooms'])\n",
    "sns.boxplot(df[df['bathrooms'] > 3.5]['price'])\n",
    "# winsorize outliers\n",
    "values_to_replace_max = df[df['bathrooms'] > 3.5].index\n",
    "df.loc[values_to_replace_max,'bathrooms'] = 3.5\n",
    "df[df['bathrooms'] > 3.5]"
   ]
  },
  {
   "cell_type": "code",
   "execution_count": null,
   "metadata": {},
   "outputs": [],
   "source": [
    "# boxplot with categories, x = category\n",
    "sns.boxplot(x=df['view'], y=df['price'])"
   ]
  },
  {
   "cell_type": "code",
   "execution_count": null,
   "metadata": {},
   "outputs": [],
   "source": [
    "pip install scipy\n",
    "from scipy import stats\n",
    "sns.boxplot(df['sqft_living'])\n",
    "# another way to winsorize\n",
    "df['sqft_living_winsorized'] = stats.mstats.winsorize(df['sqft_living'], limits=[0,0.01])\n",
    "df[['sqft_living','sqft_living_winsorized']].sort_values('sqft_living', ascending=False)"
   ]
  },
  {
   "cell_type": "code",
   "execution_count": null,
   "metadata": {},
   "outputs": [],
   "source": [
    "# heatmap\n",
    "plt.figure(figsize = (20,20))\n",
    "sns.heatmap(df.iloc[:,2:].corr(), annot=True)\n",
    "\n",
    "# pairplot\n",
    "sns.pairplot(df.iloc[:,2:])"
   ]
  },
  {
   "cell_type": "markdown",
   "metadata": {},
   "source": [
    "# Class 3"
   ]
  },
  {
   "cell_type": "code",
   "execution_count": null,
   "metadata": {},
   "outputs": [],
   "source": [
    "df = pd.read_csv('https://raw.githubusercontent.com/delinai/schulich_ds1/main/Datasets/kc_house_data.csv')\n",
    "df.head()\n",
    "# info() gives you structural information about the dataset\n",
    "df.info()"
   ]
  },
  {
   "cell_type": "code",
   "execution_count": null,
   "metadata": {},
   "outputs": [],
   "source": [
    "df['date'] = pd.to_datetime(df['date'])\n",
    "# how volume changes over time (sort_index to sort with time)\n",
    "df.groupby('date')['price'].count().sort_index().plot()\n",
    "df.groupby('date')['price'].sum().sort_index().plot()\n",
    "# looking at average overtime\n",
    "df['price_per_sqft'] = df['price'] / df['sqft_living']\n",
    "df.groupby('date')['price_per_sqft'].mean().sort_index().plot()\n",
    "\n",
    "#identify the higher average price sold\n",
    "df.groupby('date')['price_per_sqft'].mean().sort_values()"
   ]
  },
  {
   "cell_type": "code",
   "execution_count": null,
   "metadata": {},
   "outputs": [],
   "source": [
    "#find the size of the particular high price house \n",
    "df.set_index('date').loc['2014-08-30']\n",
    "# look at the usual price sold for the same size, identidy why the high price\n",
    "df[(df['sqft_living'] >= 1000) & (df['sqft_living']<=1100)]['price'].mean()"
   ]
  },
  {
   "cell_type": "code",
   "execution_count": null,
   "metadata": {},
   "outputs": [],
   "source": [
    "df[(df['sqft_living'] >= 1000) & (df['sqft_living']<=1100)]['price'].mean()\n",
    "# look at the usual price sold for the same size, identidy why the high price\n",
    "avg_price_zipcode = df.groupby(['zipcode'])['price_per_sqft'].mean().to_dict()\n",
    "# average by zipcode\n",
    "df['zip_price_per_sqft'] = df['zipcode'].map(avg_price_zipcode)\n",
    "# creates a new column mapped with zipcode, showing the avergae price corresponded to the zipcode\n",
    "df['compared_to_avg'] = df['price_per_sqft'] - df['zip_price_per_sqft']\n",
    "sns.boxplot(df['compared_to_avg'])\n",
    "#above/below the quantile are overpaid/underpaid "
   ]
  },
  {
   "cell_type": "code",
   "execution_count": null,
   "metadata": {},
   "outputs": [],
   "source": [
    "def value(x):\n",
    "    if x > 0:\n",
    "        return 'bad investment'\n",
    "    elif x == 0:\n",
    "        return 'fair investment'\n",
    "    else:\n",
    "        return 'good investment'\n",
    "df['investment_type'] = df['compared_to_avg'].apply(value)\n",
    "# apply single column tranformation using the function just created"
   ]
  },
  {
   "cell_type": "code",
   "execution_count": null,
   "metadata": {},
   "outputs": [],
   "source": [
    "def value_v2(row):\n",
    "    if row['compared_to_avg'] > 0 and row['grade'] > 10:\n",
    "        return 'fair investment for a luxury property'\n",
    "    elif row['compared_to_avg'] > 0 and row['grade'] < 10:\n",
    "        return 'overpaid'\n",
    "    elif row['compared_to_avg'] < 0 and row['grade'] > 10:\n",
    "        return 'really good deal'\n",
    "    else:\n",
    "        return 'average deal'\n",
    "df['deal_evaluation'] = df.apply(value_v2, axis = 1) \n",
    "# applied to the whole dataframe because using two or more columns in the function"
   ]
  },
  {
   "cell_type": "code",
   "execution_count": null,
   "metadata": {},
   "outputs": [],
   "source": [
    "# Convert date column to datetime format\n",
    "df['date'] = pd.to_datetime(df['date'])"
   ]
  },
  {
   "cell_type": "code",
   "execution_count": null,
   "metadata": {},
   "outputs": [],
   "source": []
  },
  {
   "cell_type": "code",
   "execution_count": null,
   "metadata": {},
   "outputs": [],
   "source": []
  },
  {
   "cell_type": "code",
   "execution_count": null,
   "metadata": {},
   "outputs": [],
   "source": []
  },
  {
   "cell_type": "code",
   "execution_count": null,
   "metadata": {},
   "outputs": [],
   "source": []
  },
  {
   "cell_type": "code",
   "execution_count": null,
   "metadata": {},
   "outputs": [],
   "source": []
  },
  {
   "cell_type": "code",
   "execution_count": null,
   "metadata": {},
   "outputs": [],
   "source": []
  },
  {
   "cell_type": "code",
   "execution_count": null,
   "metadata": {},
   "outputs": [],
   "source": []
  },
  {
   "cell_type": "code",
   "execution_count": null,
   "metadata": {},
   "outputs": [],
   "source": []
  },
  {
   "cell_type": "code",
   "execution_count": null,
   "metadata": {},
   "outputs": [],
   "source": []
  },
  {
   "cell_type": "code",
   "execution_count": null,
   "metadata": {},
   "outputs": [],
   "source": []
  },
  {
   "cell_type": "code",
   "execution_count": null,
   "metadata": {},
   "outputs": [],
   "source": []
  },
  {
   "cell_type": "code",
   "execution_count": null,
   "metadata": {},
   "outputs": [],
   "source": []
  },
  {
   "cell_type": "code",
   "execution_count": null,
   "metadata": {},
   "outputs": [],
   "source": []
  },
  {
   "cell_type": "code",
   "execution_count": null,
   "metadata": {},
   "outputs": [],
   "source": []
  }
 ],
 "metadata": {
  "kernelspec": {
   "display_name": "Python 3",
   "language": "python",
   "name": "python3"
  },
  "language_info": {
   "codemirror_mode": {
    "name": "ipython",
    "version": 3
   },
   "file_extension": ".py",
   "mimetype": "text/x-python",
   "name": "python",
   "nbconvert_exporter": "python",
   "pygments_lexer": "ipython3",
   "version": "3.12.4"
  }
 },
 "nbformat": 4,
 "nbformat_minor": 2
}
